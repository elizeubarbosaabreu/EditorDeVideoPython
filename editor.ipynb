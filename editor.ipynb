{
 "cells": [
  {
   "cell_type": "markdown",
   "id": "a568583e",
   "metadata": {},
   "source": [
    "# CRIADOR AUTOMÁTICO DE VÍDEOS CURTOS LEGENDADOS"
   ]
  },
  {
   "cell_type": "markdown",
   "id": "e3d929ca",
   "metadata": {},
   "source": [
    "#### Instalar bibliotecas"
   ]
  },
  {
   "cell_type": "code",
   "execution_count": null,
   "id": "04ffa088",
   "metadata": {},
   "outputs": [],
   "source": [
    "!pip install -r requirements.txt"
   ]
  },
  {
   "cell_type": "markdown",
   "id": "361e6351",
   "metadata": {},
   "source": [
    "#### Passo a passo\n",
    "\n",
    "- Pegar um video longo\n",
    "- fatiar em videos menores: 15, 30, 60 com  o moviepy\n",
    "- para cada vídeo menor gerado:\n",
    "  - excluir videos que não interessa\n",
    "  - aplicar logotipo\n",
    "  - aplicar legenda\n",
    "  - rotacionar 90º se estiver em formato paisagem\n",
    "  - proceder a postagem normalmente"
   ]
  },
  {
   "cell_type": "markdown",
   "id": "05e74978",
   "metadata": {},
   "source": [
    "#### Importar as Bibliotecas Python"
   ]
  },
  {
   "cell_type": "code",
   "execution_count": 10,
   "id": "e0f7bd2a",
   "metadata": {},
   "outputs": [
    {
     "name": "stdout",
     "output_type": "stream",
     "text": [
      "Bibliotecas importadas com sucesso\n",
      "Versão do python: 3.12.3\n"
     ]
    }
   ],
   "source": [
    "import sys, ffmpeg\n",
    "import yt_dlp\n",
    "from moviepy.editor import *\n",
    "from PIL.Image import *\n",
    "from datetime import datetime\n",
    "from tkinter.filedialog import askopenfilename, asksaveasfilename\n",
    "\n",
    "print(\"Bibliotecas importadas com sucesso\")\n",
    "print(f'Versão do python: {sys.version[0:6]}')"
   ]
  },
  {
   "cell_type": "markdown",
   "id": "1a69e00c",
   "metadata": {},
   "source": [
    "#### Baixador de vídeos"
   ]
  },
  {
   "cell_type": "code",
   "execution_count": null,
   "id": "619c6119",
   "metadata": {},
   "outputs": [
    {
     "name": "stderr",
     "output_type": "stream",
     "text": [
      "[debug] Encodings: locale UTF-8, fs utf-8, pref UTF-8, out UTF-8 (No ANSI), error UTF-8 (No ANSI), screen UTF-8 (No ANSI)\n",
      "[debug] yt-dlp version stable@2024.08.06 from yt-dlp/yt-dlp [4d9231208] (pip) API\n",
      "[debug] params: {'verbose': True, 'force_keyframes_at_cuts': True, 'format': 'bestvideo[ext=mp4]+bestaudio[ext=m4a]/mp4', 'postprocessors': [{'key': 'FFmpegVideoConvertor', 'preferedformat': 'mp4'}], 'compat_opts': set(), 'http_headers': {'User-Agent': 'Mozilla/5.0 (Windows NT 10.0; Win64; x64) AppleWebKit/537.36 (KHTML, like Gecko) Chrome/95.0.4638.17 Safari/537.36', 'Accept': 'text/html,application/xhtml+xml,application/xml;q=0.9,*/*;q=0.8', 'Accept-Language': 'en-us,en;q=0.5', 'Sec-Fetch-Mode': 'navigate'}}\n",
      "[debug] Python 3.12.3 (CPython x86_64 64bit) - Linux-6.8.0-41-generic-x86_64-with-glibc2.39 (OpenSSL 3.0.13 30 Jan 2024, glibc 2.39)\n",
      "[debug] exe versions: ffmpeg 6.1.1 (setts), ffprobe 6.1.1\n",
      "[debug] Optional libraries: Cryptodome-3.20.0, brotli-1.1.0, certifi-2024.07.04, mutagen-1.47.0, requests-2.32.3, sqlite3-3.45.1, urllib3-2.2.2, websockets-13.0\n",
      "[debug] Proxy map: {}\n",
      "[debug] Request Handlers: urllib, requests, websockets\n",
      "[debug] Loaded 1830 extractors\n"
     ]
    },
    {
     "name": "stdout",
     "output_type": "stream",
     "text": [
      "[youtube] Extracting URL: https://www.youtube.com/watch?v=tJugko3iO0o\n",
      "[youtube] tJugko3iO0o: Downloading webpage\n",
      "[youtube] tJugko3iO0o: Downloading ios player API JSON\n",
      "[youtube] tJugko3iO0o: Downloading web creator player API JSON\n",
      "[youtube] tJugko3iO0o: Downloading player bcd1f224\n"
     ]
    },
    {
     "name": "stderr",
     "output_type": "stream",
     "text": [
      "[debug] Saving youtube-nsig.bcd1f224 to cache\n",
      "[debug] [youtube] Decrypted nsig v4WAc6L90Ah3tTy1kO => 6VB-ZeHQUO6kEg\n",
      "[debug] Loading youtube-nsig.bcd1f224 from cache\n",
      "[debug] [youtube] Decrypted nsig tfXfLq-h8rCggQDlGA => ZTyOt3pyMPjTVQ\n"
     ]
    },
    {
     "name": "stdout",
     "output_type": "stream",
     "text": [
      "[youtube] tJugko3iO0o: Downloading m3u8 information\n"
     ]
    },
    {
     "name": "stderr",
     "output_type": "stream",
     "text": [
      "[debug] Sort order given by extractor: quality, res, fps, hdr:12, source, vcodec:vp9.2, channels, acodec, lang, proto\n",
      "[debug] Formats sorted by: hasvid, ie_pref, quality, res, fps, hdr:12(7), source, vcodec:vp9.2(10), channels, acodec, lang, proto, size, br, asr, vext, aext, hasaud, id\n"
     ]
    },
    {
     "name": "stdout",
     "output_type": "stream",
     "text": [
      "[info] tJugko3iO0o: Downloading 1 format(s): 625+140\n"
     ]
    },
    {
     "name": "stderr",
     "output_type": "stream",
     "text": [
      "[debug] Invoking hlsnative downloader on \"https://manifest.googlevideo.com/api/manifest/hls_playlist/expire/1724834024/ei/iIzOZrjkJNWbobIP7ODLyAs/ip/2804:8c7c:a3f5:a00:2943:81f4:dba4:3b4a/id/b49ba0928de23b4a/itag/625/source/youtube/requiressl/yes/ratebypass/yes/pfa/1/wft/1/sgovp/clen%3D278079510%3Bdur%3D265.000%3Bgir%3Dyes%3Bitag%3D313%3Blmt%3D1719844669965947/rqh/1/hls_chunk_host/rr1---sn-voq5bpacg-28ie.googlevideo.com/xpc/EgVo2aDSNQ%3D%3D/mh/ts/mm/31,29/mn/sn-voq5bpacg-28ie,sn-pmcg-cnce/ms/au,rdu/mv/m/mvi/1/pcm2cms/yes/pl/40/initcwndbps/1470000/vprv/1/playlist_type/DVR/dover/13/txp/630F224/mt/1724812133/fvip/8/short_key/1/keepalive/yes/sparams/expire,ei,ip,id,itag,source,requiressl,ratebypass,pfa,wft,sgovp,rqh,xpc,vprv,playlist_type/sig/AJfQdSswRQIgf7rfDd39eXTOV3WwwGJ8QQhXA-zpMp0vVSRsRhEwGxgCIQDM_QS0zJYVRMH-EuDa5Ps_xs1dnmwBesSTFpWQymXosw%3D%3D/lsparams/hls_chunk_host,mh,mm,mn,ms,mv,mvi,pcm2cms,pl,initcwndbps/lsig/AGtxev0wRQIgPS9nnh3sOgDvifG7Fnc3lLyMhmIyh1SY4uQdiD8kjUECIQD8WC7bMlpo_YNNqrxxNsgr8Qt-W7jSSlybOxJKzG1gCw%3D%3D/playlist/index.m3u8\"\n"
     ]
    },
    {
     "name": "stdout",
     "output_type": "stream",
     "text": [
      "[hlsnative] Downloading m3u8 manifest\n",
      "[hlsnative] Total fragments: 49\n",
      "[download] Destination: Institucional ｜ UniCesumar [tJugko3iO0o].f625.mp4\n",
      "[download] 100% of  265.23MiB in 00:01:12 at 3.68MiB/s                  \n"
     ]
    },
    {
     "name": "stderr",
     "output_type": "stream",
     "text": [
      "[debug] Invoking http downloader on \"https://rr1---sn-voq5bpacg-28ie.googlevideo.com/videoplayback?expire=1724834024&ei=iIzOZrjkJNWbobIP7ODLyAs&ip=2804%3A8c7c%3Aa3f5%3Aa00%3A2943%3A81f4%3Adba4%3A3b4a&id=o-ADTlMaULA2LJ_zSUHqLqPeahH4-3AL4Csf5Bhl2F6SnU&itag=140&source=youtube&requiressl=yes&xpc=EgVo2aDSNQ%3D%3D&mh=ts&mm=31%2C29&mn=sn-voq5bpacg-28ie%2Csn-pmcg-cnce&ms=au%2Crdu&mv=m&mvi=1&pcm2cms=yes&pl=40&initcwndbps=1470000&vprv=1&svpuc=1&mime=audio%2Fmp4&rqh=1&gir=yes&clen=4290439&dur=265.055&lmt=1719844623083735&mt=1724812133&fvip=8&keepalive=yes&c=IOS&txp=6308224&sparams=expire%2Cei%2Cip%2Cid%2Citag%2Csource%2Crequiressl%2Cxpc%2Cvprv%2Csvpuc%2Cmime%2Crqh%2Cgir%2Cclen%2Cdur%2Clmt&sig=AJfQdSswRQIgFfV-DPDdVtq02RBWLIdsl7VGp-AzwsVvIdImgyxQa2cCIQCZSH1_tk2Y2_GFNx1UVoC-Bl0S1psjtSfcnxS3BgJvjw%3D%3D&lsparams=mh%2Cmm%2Cmn%2Cms%2Cmv%2Cmvi%2Cpcm2cms%2Cpl%2Cinitcwndbps&lsig=AGtxev0wRgIhAJU_E9_nE7IuVj2eO-GFZmKyBJpa8ElwP4IIJvG1VIdBAiEA3DbaIYRlUOMQ1LOgCWxkg1JZ0Jy7oiLtn-6OI70vTvA%3D\"\n"
     ]
    },
    {
     "name": "stdout",
     "output_type": "stream",
     "text": [
      "[download] Destination: Institucional ｜ UniCesumar [tJugko3iO0o].f140.m4a\n",
      "[download] 100% of    4.09MiB in 00:00:00 at 4.16MiB/s   \n",
      "[Merger] Merging formats into \"Institucional ｜ UniCesumar [tJugko3iO0o].mp4\"\n"
     ]
    },
    {
     "name": "stderr",
     "output_type": "stream",
     "text": [
      "[debug] ffmpeg command line: ffmpeg -y -loglevel repeat+info -i 'file:Institucional ｜ UniCesumar [tJugko3iO0o].f625.mp4' -i 'file:Institucional ｜ UniCesumar [tJugko3iO0o].f140.m4a' -c copy -map 0:v:0 -map 1:a:0 -movflags +faststart 'file:Institucional ｜ UniCesumar [tJugko3iO0o].temp.mp4'\n"
     ]
    }
   ],
   "source": [
    "url = 'https://www.youtube.com/watch?v=tJugko3iO0o'\n",
    "import yt_dlp\n",
    "from yt_dlp.utils import download_range_func\n",
    "\n",
    "yt_opts = {\n",
    "    'verbose': True,\n",
    "    'force_keyframes_at_cuts': True,\n",
    "    'format': 'bestvideo[ext=mp4]+bestaudio[ext=m4a]/mp4',  # Especifica vídeo e áudio em MP4\n",
    "    'postprocessors': [{  # Inclui um pós-processador para mesclar vídeo e áudio\n",
    "        'key': 'FFmpegVideoConvertor',\n",
    "        'preferedformat': 'mp4',\n",
    "    }],\n",
    "}\n",
    "\n",
    "with yt_dlp.YoutubeDL(yt_opts) as ydl:\n",
    "    ydl.download(url)\n",
    "\n"
   ]
  },
  {
   "cell_type": "markdown",
   "id": "69450327",
   "metadata": {},
   "source": [
    "### Informações sobre o vídeo"
   ]
  },
  {
   "cell_type": "code",
   "execution_count": null,
   "id": "97af4be0",
   "metadata": {},
   "outputs": [],
   "source": [
    "video = VideoFileClip(input(\"Caminho do video que será convertido em vídeos curtos: \"))\n",
    "print(\n",
    "    f'''\n",
    "Nome: {video.filename}\n",
    "Duração: {video.duration}\n",
    "Tamanho: {video.size}\n",
    "Aspecto: {video.aspect_ratio}\n",
    "FPS: {video.fps}\n",
    "\n",
    "''')"
   ]
  },
  {
   "cell_type": "markdown",
   "id": "3c72af78",
   "metadata": {},
   "source": [
    "#### Fatiador de Vídeos\n",
    "\n",
    "\n"
   ]
  },
  {
   "cell_type": "code",
   "execution_count": null,
   "id": "b404e583",
   "metadata": {},
   "outputs": [],
   "source": [
    "# Solicita a entrada do usuário\n",
    "tamanho = input(\n",
    "    '''\n",
    "Escolha o tamanho dos vídeos curtos:\n",
    "    (1) - 15 segundos\n",
    "    (2) - 30 segundos\n",
    "    (3) - 45 segundos\n",
    "    (4) - 60 segundos\n",
    "    (5) - 120 segundos\n",
    "Digite: \n",
    "    '''\n",
    ")\n",
    "\n",
    "# Dicionário que simula o switch-case para definir o valor de \"passo\"\n",
    "switch = {\n",
    "    '1': 15,\n",
    "    '2': 30,\n",
    "    '3': 45,\n",
    "    '4': 60,\n",
    "    '5': 120\n",
    "}\n",
    "\n",
    "# Define o valor de \"passo\" baseado na escolha do usuário\n",
    "passo = switch.get(tamanho, 15)  # 15 segundos por padrão, caso a entrada não seja válida\n",
    "\n",
    "# Define as variáveis \"inicio\" e \"fim\"\n",
    "inicio = 0\n",
    "fim = passo\n",
    "\n",
    "\n",
    "while(fim<= video.duration):\n",
    "    try:\n",
    "        shorts = video.subclip(inicio, fim)    \n",
    "        shorts.resize(width=480).fx(vfx.fadeout, 1).fx(vfx.fadein, 1)\n",
    "\n",
    "        # Obter a data e hora atual\n",
    "        now = datetime.now()\n",
    "\n",
    "        # Formatar a data e hora como uma string\n",
    "        timestamp = now.strftime(\"%Y%m%d_%H%M%S\")\n",
    "\n",
    "        filename = f'saida/video_{timestamp}.mp4'\n",
    "\n",
    "        shorts.write_videofile(filename, fps=30, threads=1)\n",
    "        inicio += passo\n",
    "        fim += passo\n",
    "        if fim > video.duration:\n",
    "            fim = video.duration\n",
    "    except Exception as e:\n",
    "        break"
   ]
  },
  {
   "cell_type": "markdown",
   "id": "384a5dd0",
   "metadata": {},
   "source": [
    "#### Adicionar logotipo"
   ]
  },
  {
   "cell_type": "code",
   "execution_count": null,
   "id": "23da4481",
   "metadata": {},
   "outputs": [],
   "source": [
    "path_logo = input(\"Caminho do logotipo: \") # imagem quadrada e em png\n",
    "\n",
    "path_video = input('caminho do video a aplicar o logotipo: ')\n",
    "# path_video = filename\n",
    "\n",
    "\n",
    "\n",
    "shorts = VideoFileClip(path_video).fx(vfx.fadeout, 1).fx(vfx.fadein, 1)\n",
    "\n",
    "\n",
    "logotipo = ImageClip(path_logo).set_duration(shorts.duration).margin(right=100, top=100, opacity=0).set_pos((\"right\", \"top\"))\n",
    "\n",
    "video_com_logo = CompositeVideoClip([shorts, logotipo], size=shorts.size)\n",
    "\n",
    " # Obter a data e hora atual\n",
    "now = datetime.now()\n",
    "\n",
    "# Formatar a data e hora como uma string\n",
    "timestamp = now.strftime(\"%Y%m%d_%H%M%S\")\n",
    "\n",
    "filename = f'saida/video_{timestamp}.mp4'\n",
    "\n",
    "video_com_logo.write_videofile(filename, fps=30, threads=1) # renderiza o arquivo\n",
    "\n"
   ]
  },
  {
   "cell_type": "markdown",
   "id": "2449a707",
   "metadata": {},
   "source": [
    "## Gerador de legendas"
   ]
  },
  {
   "cell_type": "markdown",
   "id": "e277899d",
   "metadata": {},
   "source": [
    "## Atenção!\n",
    "Para gerar as legendas use o arquivo legendador.py\n",
    "---"
   ]
  },
  {
   "cell_type": "markdown",
   "id": "8d30eb42",
   "metadata": {},
   "source": [
    "#### Adicionar a legenda ao video"
   ]
  },
  {
   "cell_type": "code",
   "execution_count": null,
   "id": "d3bc79b9",
   "metadata": {},
   "outputs": [],
   "source": [
    "video_path = input('Caminho do Vídeo a ser legendado: ')\n",
    "# video_path = filename\n",
    "subtitle_path = input('Caminho da legenda para aplicar ao vídeo: ')\n",
    "\n",
    "# Obter a data e hora atual\n",
    "now = datetime.now()\n",
    "\n",
    "# Formatar a data e hora como uma string\n",
    "timestamp = now.strftime(\"%Y%m%d_%H%M%S\")\n",
    "\n",
    "output_path = f'saida/video_{timestamp}.mp4'\n",
    "\n",
    "try:\n",
    "    # Comando para adicionar legenda ao vídeo e manter o áudio original\n",
    "    ffmpeg.input(video_path)\\\n",
    "        .output(output_path, vf=f\"subtitles={subtitle_path}\", acodec=\"copy\")\\\n",
    "        .run(overwrite_output=True)\n",
    "    print(f\"Vídeo legendado gerado com sucesso: {output_path}\")\n",
    "except ffmpeg.Error as e:\n",
    "    print(f\"Ocorreu um erro ao processar o vídeo: {e}\")"
   ]
  },
  {
   "cell_type": "markdown",
   "id": "2b169a5c",
   "metadata": {},
   "source": [
    "#### Rotacionador de vídeo"
   ]
  },
  {
   "cell_type": "code",
   "execution_count": null,
   "id": "5c0de2c0",
   "metadata": {},
   "outputs": [],
   "source": [
    "path_video = input(\"Caminho do video: \")\n",
    "\n",
    "# Obter a data e hora atual\n",
    "now = datetime.now()\n",
    "\n",
    "# Formatar a data e hora como uma string\n",
    "timestamp = now.strftime(\"%Y%m%d_%H%M%S\")\n",
    "    \n",
    "clip = VideoFileClip(path_video)\n",
    "\n",
    "if clip.size[0]> clip.size[1]:\n",
    "        clip = clip.rotate(-90)\n",
    "        clip.write_videofile(f'saida/video_{timestamp}.mp4', fps=30, threads=1)"
   ]
  },
  {
   "cell_type": "markdown",
   "id": "3df175b6-b9de-4316-9f86-d36825609f73",
   "metadata": {},
   "source": [
    "# Efeitos adicionais com moviepy"
   ]
  },
  {
   "cell_type": "markdown",
   "id": "eb729568",
   "metadata": {},
   "source": [
    "#### Adicionar um gif dançante ou de ação no clip"
   ]
  },
  {
   "cell_type": "code",
   "execution_count": null,
   "id": "bfd6b931-41b0-45f0-9a87-33a65717988b",
   "metadata": {},
   "outputs": [],
   "source": [
    "path_video = input(\"Caminho relativo do vídeo: \")\n",
    "path_gif = input(\"Caminho relativo do gif: \")\n",
    "\n",
    "# Carrega o vídeo 'video.mp4' e seleciona um trecho de 0 a 5 segundos\n",
    "video = VideoFileClip(path_video).subclip(0, 30)\n",
    "\n",
    "\n",
    "# Carrega o GIF 'meugif.gif', define algumas propriedades e o posiciona no vídeo\n",
    "reacao = VideoFileClip(\n",
    "    path_gif, has_mask=True).loop().set_duration(video.duration).margin(left=0, bottom=0, opacity=0).set_pos((\"left\", \"bottom\"))\n",
    "\n",
    "# Cria um vídeo composto com o vídeo principal e a reação, adiciona efeitos de fade in e fade out\n",
    "output_video = CompositeVideoClip([video, reacao], size=video.size).fx(vfx.fadeout, 1).fx(vfx.fadein, 1)\n",
    "\n",
    "# Renderiza o vídeo final e o salva como 'output.mp4'\n",
    "output_video.write_videofile('output.mp4', fps=30, threads=1)\n"
   ]
  },
  {
   "cell_type": "markdown",
   "id": "a9638d3a",
   "metadata": {},
   "source": [
    "#### Adicionar um áudio a um vídeo"
   ]
  },
  {
   "cell_type": "code",
   "execution_count": null,
   "id": "59bcd104",
   "metadata": {},
   "outputs": [],
   "source": [
    "path_video = input(\"Caminho relativo do vídeo: \")\n",
    "\n",
    "# Carrega o vídeo 'video.mp4' e seleciona um trecho de 0 a 5 segundos\n",
    "video = VideoFileClip(path_video)\n",
    "# ADICIONAR ÁUDIO AO VÍDEO\n",
    "path_audio = input(\"Caminho relativo do audio para aplicar ao vídeo: \")\n",
    "\n",
    "# Carrega o áudio 'audio.mp3' e define sua duração para a mesma do vídeo\n",
    "audio = AudioFileClip(path_audio).set_duration(video.duration)\n",
    "\n",
    "# Define o áudio do vídeo\n",
    "video = video.set_audio(audio)\n",
    "\n",
    "# Salva o vídeo\n",
    "video.write_videofile(f'{path_video.replace(\".\", \"_\")}_com_audio.mp4', fps=30, threads=1)"
   ]
  },
  {
   "cell_type": "markdown",
   "id": "f7636210-f6f6-46a5-a9c3-bfab9c0e1814",
   "metadata": {},
   "source": [
    "#### panqueca com 3 partes do mesmo video em tempos diferentes\n",
    "uso de clips_array para deixar um vídeo sobre o outro"
   ]
  },
  {
   "cell_type": "code",
   "execution_count": null,
   "id": "6fceba90-64c0-42d0-9859-c38b3335cced",
   "metadata": {},
   "outputs": [],
   "source": [
    "path_video = input(\"caminho relativo do video: \")\n",
    "\n",
    "video1 = VideoFileClip(path_video).subclip(0, 15).without_audio()\n",
    "\n",
    "video2 = VideoFileClip(path_video).subclip(10, 25).without_audio()\n",
    "\n",
    "video3 = VideoFileClip(path_video).subclip(15, 30).without_audio()\n",
    "\n",
    "# Cria um arranjo de vídeos em uma \"panqueca\" (stack) vertical\n",
    "panqueca_de_videos = clips_array(\n",
    "    [\n",
    "        [video1],  # Primeiro vídeo\n",
    "        [video2],  # Segundo vídeo\n",
    "        [video3],  # Terceiro vídeo\n",
    "    ]\n",
    ")\n",
    "\n",
    "# Renderiza o vídeo composto e o salva como 'output.mp4'\n",
    "panqueca_de_videos.write_videofile('output.mp4', fps=24, threads=1)\n"
   ]
  },
  {
   "cell_type": "markdown",
   "id": "887f223e",
   "metadata": {},
   "source": [
    "#### Adicionar clip de texto"
   ]
  },
  {
   "cell_type": "code",
   "execution_count": null,
   "id": "cb605c33",
   "metadata": {},
   "outputs": [],
   "source": [
    "path_video = askopenfilename(title=\"Caminho do vídeo\")\n",
    "video = VideoFileClip(path_video).subclip(1, 10).without_audio().resize(0.3)\n",
    "\n",
    "texto = input(\"Texto para inserir: \")\n",
    "font_size = input(\"Tamanho da fonte: \")\n",
    "\n",
    "clip_de_texto = TextClip(texto, font =\"Ubuntu\", fontsize = int(font_size), color =\"white\", bg_color=\"red\").set_duration(video.duration)\n",
    "clip_de_texto = clip_de_texto.set_position(\"center\")\n",
    "\n",
    "\n",
    "compose = CompositeVideoClip([video, clip_de_texto], size=video.size).fx(vfx.fadeout, 1).fx(vfx.fadein, 1)\n",
    "\n",
    "#compose.preview()\n",
    "\n",
    "# Renderiza o vídeo final e o salva como 'output.mp4'\n",
    "salvar = asksaveasfilename(title=\"Salve com a extensão mp4\")\n",
    "compose.write_videofile(salvar, fps=30, threads=1)\n"
   ]
  },
  {
   "cell_type": "markdown",
   "id": "7308cc8d-5cb6-4a79-9242-53909068af9c",
   "metadata": {
    "jp-MarkdownHeadingCollapsed": true
   },
   "source": [
    "#### Concatecenar Vídeos\n",
    "Colocar um vídeo depois do outro"
   ]
  },
  {
   "cell_type": "code",
   "execution_count": null,
   "id": "7b2cfc9e",
   "metadata": {},
   "outputs": [],
   "source": [
    "path_video1 = askopenfilename(title=\"Primeiro vídeo mp4\")\n",
    "path_video2 = askopenfilename(title=\"Segundo vídeo\")\n",
    "\n",
    "\n",
    "# Carrega o vídeo1, seleciona um trecho de 0 a 9 segundos\n",
    "video1 = VideoFileClip(path_video_1).subclip(0, 3).resize(0.5)\n",
    "\n",
    "# Carrega o vídeo 'video.mp4', seleciona um trecho de 20 a 29 segundos\n",
    "video2 = VideoFileClip(path_video_2).subclip(10, 13).resize(0.5)\n",
    "\n",
    "# Concatenando os clipes de vídeo 'video1' e 'video2' utilizando o método \"compose\"\n",
    "# Adiciona efeitos de fade in e fade out de 3 segundos\n",
    "novo_video = concatenate_videoclips([video1, video2], method=\"compose\").fx(vfx.fadeout, 3).fx(vfx.fadein, 3)\n",
    "\n",
    "# Prgunta onde quer salvar o vídeo\n",
    "salvar = asksaveasfilename(title=\"Salve com a extensão mp4\")\n",
    "\n",
    "# Renderiza o novo vídeo concatenado e o salva como 'saida.mp4'\n",
    "novo_video.write_videofile(salvar, fps=24, threads=1)\n"
   ]
  },
  {
   "cell_type": "markdown",
   "id": "93819936-fe3a-4e5a-9b8d-2814e9b1f573",
   "metadata": {},
   "source": [
    "### Video lado a lado"
   ]
  },
  {
   "cell_type": "code",
   "execution_count": 11,
   "id": "f177e758-e6a1-4330-bf59-9d304e30096c",
   "metadata": {},
   "outputs": [
    {
     "name": "stdout",
     "output_type": "stream",
     "text": [
      "Moviepy - Building video /home/elizeu/Área de trabalho/video.mp4.\n",
      "MoviePy - Writing audio in videoTEMP_MPY_wvf_snd.mp3\n"
     ]
    },
    {
     "name": "stderr",
     "output_type": "stream",
     "text": [
      "                                                                                \r"
     ]
    },
    {
     "name": "stdout",
     "output_type": "stream",
     "text": [
      "MoviePy - Done.\n",
      "Moviepy - Writing video /home/elizeu/Área de trabalho/video.mp4\n",
      "\n"
     ]
    },
    {
     "name": "stderr",
     "output_type": "stream",
     "text": [
      "                                                                                \r"
     ]
    },
    {
     "name": "stdout",
     "output_type": "stream",
     "text": [
      "Moviepy - Done !\n",
      "Moviepy - video ready /home/elizeu/Área de trabalho/video.mp4\n"
     ]
    }
   ],
   "source": [
    "path_video1 = askopenfilename(title=\"Vídeo principal mp4\")\n",
    "path_video2 = askopenfilename(title=\"Vídeo satisfatório lateral\")\n",
    "\n",
    "video1 = VideoFileClip(path_video1)\n",
    "\n",
    "video2 = VideoFileClip(path_video2).without_audio()\n",
    "video2.set_duration(video1.duration)\n",
    "\n",
    "# Cria um arranjo de vídeos em uma \"panqueca\" (stack) vertical\n",
    "panqueca_de_videos = clips_array(\n",
    "    [\n",
    "        [video1, video2],      \n",
    "    ]\n",
    ")\n",
    "\n",
    "salvar = asksaveasfilename(title=\"Salve com a extensão mp4\")\n",
    "# Renderiza o vídeo composto e o salva como 'output.mp4'\n",
    "panqueca_de_videos.write_videofile(salvar, fps=24, threads=1)\n"
   ]
  },
  {
   "cell_type": "code",
   "execution_count": null,
   "id": "7241e1bf-12ec-4de5-9a2a-8d764767f344",
   "metadata": {},
   "outputs": [],
   "source": []
  }
 ],
 "metadata": {
  "kernelspec": {
   "display_name": "Python 3 (ipykernel)",
   "language": "python",
   "name": "python3"
  },
  "language_info": {
   "codemirror_mode": {
    "name": "ipython",
    "version": 3
   },
   "file_extension": ".py",
   "mimetype": "text/x-python",
   "name": "python",
   "nbconvert_exporter": "python",
   "pygments_lexer": "ipython3",
   "version": "3.12.3"
  }
 },
 "nbformat": 4,
 "nbformat_minor": 5
}
