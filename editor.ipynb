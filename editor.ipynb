{
 "cells": [
  {
   "cell_type": "markdown",
   "id": "a568583e",
   "metadata": {},
   "source": [
    "# CRIADOR AUTOMÁTICO DE VÍDEOS CURTOS LEGENDADOS"
   ]
  },
  {
   "cell_type": "markdown",
   "id": "e3d929ca",
   "metadata": {},
   "source": [
    "#### Instalar bibliotecas"
   ]
  },
  {
   "cell_type": "code",
   "execution_count": null,
   "id": "04ffa088",
   "metadata": {},
   "outputs": [],
   "source": [
    "!pip install -r requirements.txt"
   ]
  },
  {
   "cell_type": "markdown",
   "id": "361e6351",
   "metadata": {},
   "source": [
    "#### Passo a passo\n",
    "\n",
    "- Pegar um video longo\n",
    "- fatiar em videos menores: 15, 30, 60 com  o moviepy\n",
    "- para cada vídeo menor gerado:\n",
    "  - excluir videos que não interessa\n",
    "  - aplicar logotipo\n",
    "  - aplicar legenda\n",
    "  - rotacionar 90º se estiver em formato paisagem\n",
    "  - proceder a postagem normalmente"
   ]
  },
  {
   "cell_type": "markdown",
   "id": "05e74978",
   "metadata": {},
   "source": [
    "#### Importar as Bibliotecas Python"
   ]
  },
  {
   "cell_type": "code",
   "execution_count": 1,
   "id": "e0f7bd2a",
   "metadata": {},
   "outputs": [
    {
     "name": "stdout",
     "output_type": "stream",
     "text": [
      "Bibliotecas importadas com sucesso\n",
      "Versão do python: 3.12.4\n"
     ]
    }
   ],
   "source": [
    "import sys, ffmpeg, yt-dlp\n",
    "from moviepy.editor import *\n",
    "from PIL.Image import *\n",
    "from datetime import datetime\n",
    "\n",
    "print(\"Bibliotecas importadas com sucesso\")\n",
    "print(f'Versão do python: {sys.version[0:6]}')"
   ]
  },
  {
   "cell_type": "markdown",
   "id": "1a69e00c",
   "metadata": {},
   "source": [
    "#### Baixador de vídeos"
   ]
  },
  {
   "cell_type": "code",
   "execution_count": null,
   "id": "619c6119",
   "metadata": {},
   "outputs": [],
   "source": [
    "url = 'https://www.youtube.com/watch?v=tJugko3iO0o'\n",
    "import yt_dlp\n",
    "from yt_dlp.utils import download_range_func\n",
    "\n",
    "yt_opts = {\n",
    "    'verbose': True,\n",
    "    'force_keyframes_at_cuts': True,\n",
    "    'format': 'bestvideo[ext=mp4]+bestaudio[ext=m4a]/mp4',  # Especifica vídeo e áudio em MP4\n",
    "    'postprocessors': [{  # Inclui um pós-processador para mesclar vídeo e áudio\n",
    "        'key': 'FFmpegVideoConvertor',\n",
    "        'preferedformat': 'mp4',\n",
    "    }],\n",
    "}\n",
    "\n",
    "with yt_dlp.YoutubeDL(yt_opts) as ydl:\n",
    "    ydl.download(url)\n",
    "\n"
   ]
  },
  {
   "cell_type": "markdown",
   "id": "69450327",
   "metadata": {},
   "source": [
    "### Informações sobre o vídeo"
   ]
  },
  {
   "cell_type": "code",
   "execution_count": null,
   "id": "97af4be0",
   "metadata": {},
   "outputs": [],
   "source": [
    "video = VideoFileClip(input(\"Caminho do video que será convertido em vídeos curtos: \"))\n",
    "print(\n",
    "    f'''\n",
    "Nome: {video.filename}\n",
    "Duração: {video.duration}\n",
    "Tamanho: {video.size}\n",
    "Aspecto: {video.aspect_ratio}\n",
    "FPS: {video.fps}\n",
    "\n",
    "''')"
   ]
  },
  {
   "cell_type": "markdown",
   "id": "3c72af78",
   "metadata": {},
   "source": [
    "#### Fatiador de Vídeos\n",
    "\n",
    "\n"
   ]
  },
  {
   "cell_type": "code",
   "execution_count": null,
   "id": "b404e583",
   "metadata": {},
   "outputs": [],
   "source": [
    "# Solicita a entrada do usuário\n",
    "tamanho = input(\n",
    "    '''\n",
    "Escolha o tamanho dos vídeos curtos:\n",
    "    (1) - 15 segundos\n",
    "    (2) - 30 segundos\n",
    "    (3) - 45 segundos\n",
    "    (4) - 60 segundos\n",
    "    (5) - 120 segundos\n",
    "Digite: \n",
    "    '''\n",
    ")\n",
    "\n",
    "# Dicionário que simula o switch-case para definir o valor de \"passo\"\n",
    "switch = {\n",
    "    '1': 15,\n",
    "    '2': 30,\n",
    "    '3': 45,\n",
    "    '4': 60,\n",
    "    '5': 120\n",
    "}\n",
    "\n",
    "# Define o valor de \"passo\" baseado na escolha do usuário\n",
    "passo = switch.get(tamanho, 15)  # 15 segundos por padrão, caso a entrada não seja válida\n",
    "\n",
    "# Define as variáveis \"inicio\" e \"fim\"\n",
    "inicio = 0\n",
    "fim = passo\n",
    "\n",
    "\n",
    "while(fim<= video.duration):\n",
    "    try:\n",
    "        shorts = video.subclip(inicio, fim)    \n",
    "        shorts.resize(width=480).fx(vfx.fadeout, 1).fx(vfx.fadein, 1)\n",
    "\n",
    "        # Obter a data e hora atual\n",
    "        now = datetime.now()\n",
    "\n",
    "        # Formatar a data e hora como uma string\n",
    "        timestamp = now.strftime(\"%Y%m%d_%H%M%S\")\n",
    "\n",
    "        filename = f'saida/video_{timestamp}.mp4'\n",
    "\n",
    "        shorts.write_videofile(filename, fps=30, threads=1)\n",
    "        inicio += passo\n",
    "        fim += passo\n",
    "        if fim > video.duration:\n",
    "            fim = video.duration\n",
    "    except Exception as e:\n",
    "        break"
   ]
  },
  {
   "cell_type": "markdown",
   "id": "384a5dd0",
   "metadata": {},
   "source": [
    "#### Adicionar logotipo"
   ]
  },
  {
   "cell_type": "code",
   "execution_count": null,
   "id": "23da4481",
   "metadata": {},
   "outputs": [],
   "source": [
    "path_logo = input(\"Caminho do logotipo: \") # imagem quadrada e em png\n",
    "\n",
    "path_video = input('caminho do video a aplicar o logotipo: ')\n",
    "# path_video = filename\n",
    "\n",
    "\n",
    "\n",
    "shorts = VideoFileClip(path_video).fx(vfx.fadeout, 1).fx(vfx.fadein, 1)\n",
    "\n",
    "\n",
    "logotipo = ImageClip(path_logo).set_duration(shorts.duration).margin(right=100, top=100, opacity=0).set_pos((\"right\", \"top\"))\n",
    "\n",
    "video_com_logo = CompositeVideoClip([shorts, logotipo], size=shorts.size)\n",
    "\n",
    " # Obter a data e hora atual\n",
    "now = datetime.now()\n",
    "\n",
    "# Formatar a data e hora como uma string\n",
    "timestamp = now.strftime(\"%Y%m%d_%H%M%S\")\n",
    "\n",
    "filename = f'saida/video_{timestamp}.mp4'\n",
    "\n",
    "video_com_logo.write_videofile(filename, fps=30, threads=1) # renderiza o arquivo\n",
    "\n"
   ]
  },
  {
   "cell_type": "markdown",
   "id": "2449a707",
   "metadata": {},
   "source": [
    "## Gerador de legendas"
   ]
  },
  {
   "cell_type": "markdown",
   "id": "e277899d",
   "metadata": {},
   "source": [
    "## Atenção!\n",
    "Para gerar as legendas use o arquivo legendador.py\n",
    "---"
   ]
  },
  {
   "cell_type": "markdown",
   "id": "8d30eb42",
   "metadata": {},
   "source": [
    "#### Adicionar a legenda ao video"
   ]
  },
  {
   "cell_type": "code",
   "execution_count": null,
   "id": "d3bc79b9",
   "metadata": {},
   "outputs": [],
   "source": [
    "video_path = input('Caminho do Vídeo a ser legendado: ')\n",
    "# video_path = filename\n",
    "subtitle_path = input('Caminho da legenda para aplicar ao vídeo: ')\n",
    "\n",
    "# Obter a data e hora atual\n",
    "now = datetime.now()\n",
    "\n",
    "# Formatar a data e hora como uma string\n",
    "timestamp = now.strftime(\"%Y%m%d_%H%M%S\")\n",
    "\n",
    "output_path = f'saida/video_{timestamp}.mp4'\n",
    "\n",
    "try:\n",
    "    # Comando para adicionar legenda ao vídeo e manter o áudio original\n",
    "    ffmpeg.input(video_path)\\\n",
    "        .output(output_path, vf=f\"subtitles={subtitle_path}\", acodec=\"copy\")\\\n",
    "        .run(overwrite_output=True)\n",
    "    print(f\"Vídeo legendado gerado com sucesso: {output_path}\")\n",
    "except ffmpeg.Error as e:\n",
    "    print(f\"Ocorreu um erro ao processar o vídeo: {e}\")"
   ]
  },
  {
   "cell_type": "markdown",
   "id": "2b169a5c",
   "metadata": {},
   "source": [
    "#### Rotacionador de vídeo"
   ]
  },
  {
   "cell_type": "code",
   "execution_count": null,
   "id": "5c0de2c0",
   "metadata": {},
   "outputs": [],
   "source": [
    "path_video = input(\"Caminho do video: \")\n",
    "\n",
    "# Obter a data e hora atual\n",
    "now = datetime.now()\n",
    "\n",
    "# Formatar a data e hora como uma string\n",
    "timestamp = now.strftime(\"%Y%m%d_%H%M%S\")\n",
    "    \n",
    "clip = VideoFileClip(path_video)\n",
    "\n",
    "if clip.size[0]> clip.size[1]:\n",
    "        clip = clip.rotate(-90)\n",
    "        clip.write_videofile(f'saida/video_{timestamp}.mp4', fps=30, threads=1)"
   ]
  },
  {
   "cell_type": "markdown",
   "id": "3df175b6-b9de-4316-9f86-d36825609f73",
   "metadata": {},
   "source": [
    "# Efeitos adicionais com moviepy"
   ]
  },
  {
   "cell_type": "markdown",
   "id": "eb729568",
   "metadata": {},
   "source": [
    "#### Adicionar um gif dançante ou de ação no clip"
   ]
  },
  {
   "cell_type": "code",
   "execution_count": null,
   "id": "bfd6b931-41b0-45f0-9a87-33a65717988b",
   "metadata": {},
   "outputs": [],
   "source": [
    "path_video = input(\"Caminho relativo do vídeo: \")\n",
    "path_gif = input(\"Caminho relativo do gif: \")\n",
    "\n",
    "# Carrega o vídeo 'video.mp4' e seleciona um trecho de 0 a 5 segundos\n",
    "video = VideoFileClip(path_video).subclip(0, 30)\n",
    "\n",
    "\n",
    "# Carrega o GIF 'meugif.gif', define algumas propriedades e o posiciona no vídeo\n",
    "reacao = VideoFileClip(\n",
    "    path_gif, has_mask=True).loop().set_duration(video.duration).margin(left=0, bottom=0, opacity=0).set_pos((\"left\", \"bottom\"))\n",
    "\n",
    "# Cria um vídeo composto com o vídeo principal e a reação, adiciona efeitos de fade in e fade out\n",
    "output_video = CompositeVideoClip([video, reacao], size=video.size).fx(vfx.fadeout, 1).fx(vfx.fadein, 1)\n",
    "\n",
    "# Renderiza o vídeo final e o salva como 'output.mp4'\n",
    "output_video.write_videofile('output.mp4', fps=30, threads=1)\n"
   ]
  },
  {
   "cell_type": "markdown",
   "id": "a9638d3a",
   "metadata": {},
   "source": [
    "#### Adicionar um áudio a um vídeo"
   ]
  },
  {
   "cell_type": "code",
   "execution_count": null,
   "id": "59bcd104",
   "metadata": {},
   "outputs": [],
   "source": [
    "path_video = input(\"Caminho relativo do vídeo: \")\n",
    "\n",
    "# Carrega o vídeo 'video.mp4' e seleciona um trecho de 0 a 5 segundos\n",
    "video = VideoFileClip(path_video)\n",
    "# ADICIONAR ÁUDIO AO VÍDEO\n",
    "path_audio = input(\"Caminho relativo do audio para aplicar ao vídeo: \")\n",
    "\n",
    "# Carrega o áudio 'audio.mp3' e define sua duração para a mesma do vídeo\n",
    "audio = AudioFileClip(path_audio).set_duration(video.duration)\n",
    "\n",
    "# Define o áudio do vídeo\n",
    "video = video.set_audio(audio)\n",
    "\n",
    "# Salva o vídeo\n",
    "video.write_videofile(f'{path_video.replace(\".\", \"_\")}_com_audio.mp4', fps=30, threads=1)"
   ]
  },
  {
   "cell_type": "markdown",
   "id": "f7636210-f6f6-46a5-a9c3-bfab9c0e1814",
   "metadata": {},
   "source": [
    "#### panqueca com 3 partes do mesmo video em tempos diferentes\n",
    "uso de clips_array para deixar um vídeo sobre o outro"
   ]
  },
  {
   "cell_type": "code",
   "execution_count": null,
   "id": "6fceba90-64c0-42d0-9859-c38b3335cced",
   "metadata": {},
   "outputs": [],
   "source": [
    "path_video = input(\"caminho relativo do video: \")\n",
    "\n",
    "video1 = VideoFileClip(path_video).subclip(0, 15).without_audio()\n",
    "\n",
    "video2 = VideoFileClip(path_video).subclip(10, 25).without_audio()\n",
    "\n",
    "video3 = VideoFileClip(path_video).subclip(15, 30).without_audio()\n",
    "\n",
    "# Cria um arranjo de vídeos em uma \"panqueca\" (stack) vertical\n",
    "panqueca_de_videos = clips_array(\n",
    "    [\n",
    "        [video1],  # Primeiro vídeo\n",
    "        [video2],  # Segundo vídeo\n",
    "        [video3],  # Terceiro vídeo\n",
    "    ]\n",
    ")\n",
    "\n",
    "# Renderiza o vídeo composto e o salva como 'output.mp4'\n",
    "panqueca_de_videos.write_videofile('output.mp4', fps=24, threads=1)\n"
   ]
  },
  {
   "cell_type": "markdown",
   "id": "887f223e",
   "metadata": {},
   "source": [
    "#### Adicionar clip de texto"
   ]
  },
  {
   "cell_type": "code",
   "execution_count": null,
   "id": "cb605c33",
   "metadata": {},
   "outputs": [],
   "source": [
    "path_video = input('Adicionar o vídeo: ')\n",
    "video = VideoFileClip(path_video).subclip(1, 10).without_audio().resize(0.3)\n",
    "\n",
    "texto = input(\"Texto para inserir: \")\n",
    "font_size = input(\"Tamanho da fonte: \")\n",
    "\n",
    "clip_de_texto = TextClip(texto, font =\"Ubuntu\", fontsize = int(font_size), color =\"white\", bg_color=\"red\").set_duration(video.duration)\n",
    "clip_de_texto = clip_de_texto.set_position(\"center\")\n",
    "\n",
    "\n",
    "compose = CompositeVideoClip([video, clip_de_texto], size=video.size).fx(vfx.fadeout, 1).fx(vfx.fadein, 1)\n",
    "\n",
    "compose.preview()\n",
    "\n",
    "# Renderiza o vídeo final e o salva como 'output.mp4'\n",
    "#compose.write_videofile(f'{path_video.replace(\".\", \"_\")}_com_texto.mp4', fps=30, threads=1)\n"
   ]
  },
  {
   "cell_type": "markdown",
   "id": "7308cc8d-5cb6-4a79-9242-53909068af9c",
   "metadata": {},
   "source": [
    "#### Concatecenar Vídeos\n",
    "Colocar um vídeo depois do outro"
   ]
  },
  {
   "cell_type": "code",
   "execution_count": null,
   "id": "7b2cfc9e",
   "metadata": {},
   "outputs": [],
   "source": [
    "path_video_1 = input('Adicionar o primeiro vídeo: ')\n",
    "path_video_2 = input('Adicionar o segundo vídeo: ')\n",
    "\n",
    "\n",
    "# Carrega o vídeo1, seleciona um trecho de 0 a 9 segundos\n",
    "video1 = VideoFileClip(path_video_1).subclip(0, 3).resize(0.5)\n",
    "\n",
    "# Carrega o vídeo 'video.mp4', seleciona um trecho de 20 a 29 segundos\n",
    "video2 = VideoFileClip(path_video_2).subclip(10, 13).resize(0.5)\n",
    "\n",
    "# Concatenando os clipes de vídeo 'video1' e 'video2' utilizando o método \"compose\"\n",
    "# Adiciona efeitos de fade in e fade out de 3 segundos\n",
    "novo_video = concatenate_videoclips([video1, video2], method=\"compose\").fx(vfx.fadeout, 3).fx(vfx.fadein, 3)\n",
    "\n",
    "# Obter a data e hora atual\n",
    "now = datetime.now()\n",
    "\n",
    "# Formatar a data e hora como uma string\n",
    "timestamp = now.strftime(\"%Y%m%d_%H%M%S\")\n",
    "\n",
    "# Renderiza o novo vídeo concatenado e o salva como 'saida.mp4'\n",
    "novo_video.write_videofile(f'saida/video_{timestamp}.mp4', fps=24, threads=1)\n"
   ]
  }
 ],
 "metadata": {
  "kernelspec": {
   "display_name": "Python 3 (ipykernel)",
   "language": "python",
   "name": "python3"
  },
  "language_info": {
   "codemirror_mode": {
    "name": "ipython",
    "version": 3
   },
   "file_extension": ".py",
   "mimetype": "text/x-python",
   "name": "python",
   "nbconvert_exporter": "python",
   "pygments_lexer": "ipython3",
   "version": "3.12.4"
  }
 },
 "nbformat": 4,
 "nbformat_minor": 5
}
